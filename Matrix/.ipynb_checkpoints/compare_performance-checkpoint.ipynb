{
 "cells": [
  {
   "cell_type": "code",
   "execution_count": 2,
   "metadata": {},
   "outputs": [
    {
     "name": "stderr",
     "output_type": "stream",
     "text": [
      "2024-08-09 18:22:22.701763: E external/local_xla/xla/stream_executor/cuda/cuda_fft.cc:485] Unable to register cuFFT factory: Attempting to register factory for plugin cuFFT when one has already been registered\n",
      "2024-08-09 18:22:22.775704: E external/local_xla/xla/stream_executor/cuda/cuda_dnn.cc:8454] Unable to register cuDNN factory: Attempting to register factory for plugin cuDNN when one has already been registered\n",
      "2024-08-09 18:22:22.796005: E external/local_xla/xla/stream_executor/cuda/cuda_blas.cc:1452] Unable to register cuBLAS factory: Attempting to register factory for plugin cuBLAS when one has already been registered\n",
      "2024-08-09 18:22:24.261987: W tensorflow/compiler/tf2tensorrt/utils/py_utils.cc:38] TF-TRT Warning: Could not find TensorRT\n"
     ]
    }
   ],
   "source": [
    "import time\n",
    "import torch\n",
    "import numpy as np\n",
    "import jax\n",
    "import jax.numpy as jnp\n",
    "import tensorflow as tf"
   ]
  },
  {
   "cell_type": "code",
   "execution_count": 3,
   "metadata": {},
   "outputs": [
    {
     "name": "stderr",
     "output_type": "stream",
     "text": [
      "WARNING: All log messages before absl::InitializeLog() is called are written to STDERR\n",
      "I0000 00:00:1723207945.456681   21733 cuda_executor.cc:1015] successful NUMA node read from SysFS had negative value (-1), but there must be at least one NUMA node, so returning NUMA node zero. See more at https://github.com/torvalds/linux/blob/v6.0/Documentation/ABI/testing/sysfs-bus-pci#L344-L355\n",
      "2024-08-09 18:22:25.666668: W tensorflow/core/common_runtime/gpu/gpu_device.cc:2343] Cannot dlopen some GPU libraries. Please make sure the missing libraries mentioned above are installed properly if you would like to use GPU. Follow the guide at https://www.tensorflow.org/install/gpu for how to download and setup the required libraries for your platform.\n",
      "Skipping registering GPU devices...\n",
      "An NVIDIA GPU may be present on this machine, but a CUDA-enabled jaxlib is not installed. Falling back to cpu.\n"
     ]
    },
    {
     "name": "stdout",
     "output_type": "stream",
     "text": [
      "TensorFlow CPU\n",
      "PyTorch CPU\n",
      "JAX CPU\n"
     ]
    }
   ],
   "source": [
    "# Check device availability\n",
    "if tf.config.list_physical_devices('GPU'):\n",
    "    print(\"TensorFlow GPU\")\n",
    "else:\n",
    "    print(\"TensorFlow CPU\")\n",
    "\n",
    "if torch.cuda.is_available():\n",
    "    print(\"PyTorch GPU\")\n",
    "else:\n",
    "    print(\"PyTorch CPU\")\n",
    "\n",
    "if jax.devices()[0].device_kind == \"gpu\":\n",
    "    print(\"JAX GPU\")\n",
    "else:\n",
    "    print(\"JAX CPU\")"
   ]
  },
  {
   "cell_type": "code",
   "execution_count": 4,
   "metadata": {},
   "outputs": [],
   "source": [
    "def measure_time(func, *args, avg_number=100):\n",
    "    start_time = time.time()\n",
    "    for _ in range(avg_number):\n",
    "        func(*args)\n",
    "    end_time = time.time()\n",
    "    return ((end_time - start_time) / avg_number) * 1000"
   ]
  },
  {
   "cell_type": "code",
   "execution_count": 5,
   "metadata": {},
   "outputs": [],
   "source": [
    "def comparsion_operations(size=1000):\n",
    "    np_a = np.random.rand(size, size).astype(np.float32)\n",
    "    np_b = np.random.rand(size, size).astype(np.float32)\n",
    "    pt_a = torch.from_numpy(np_a).to(torch.float32)\n",
    "    pt_b = torch.from_numpy(np_b).to(torch.float32)\n",
    "    jax_a = jnp.array(np_a, dtype=jnp.float32)\n",
    "    jax_b = jnp.array(np_b, dtype=jnp.float32)\n",
    "    tf_a = tf.convert_to_tensor(np_a)\n",
    "    tf_b = tf.convert_to_tensor(np_b)\n",
    "\n",
    "    operations = {\n",
    "        \"Matrix multiplication\": [\n",
    "            (lambda: np.dot(np_a, np_b)),\n",
    "            (lambda: torch.matmul(pt_a, pt_b)),\n",
    "            (lambda: jax.numpy.dot(jax_a, jax_b)),\n",
    "            (lambda: tf.matmul(tf_a, tf_b))\n",
    "        ],\n",
    "        \"Element wise addition\": [\n",
    "            (lambda: np_a + np_b),\n",
    "            (lambda: pt_a + pt_b),\n",
    "            (lambda: jax_a + jax_b),\n",
    "            (lambda: tf_a + tf_b)\n",
    "        ],\n",
    "        \"Element wise multiplication\": [\n",
    "            (lambda: np_a * np_b),\n",
    "            (lambda: pt_a * pt_b),\n",
    "            (lambda: jax_a * jax_b),\n",
    "            (lambda: tf_a * tf_b)\n",
    "        ]\n",
    "    }\n",
    "\n",
    "    results = []\n",
    "\n",
    "    for operation_name, funcs in operations.items():\n",
    "        np_time = measure_time(funcs[0])\n",
    "        pt_time = measure_time(funcs[1])\n",
    "        jax_time = measure_time(funcs[2])\n",
    "        tf_time = measure_time(funcs[3])\n",
    "\n",
    "        results.append(f\"{operation_name}: NUMPY: {np_time:.3f}ms, PYTORCH: {pt_time:.3f}ms, JAX: {jax_time:.3f}ms, TENSORFLOW: {tf_time:.3f}ms\")\n",
    "    \n",
    "    return results"
   ]
  },
  {
   "cell_type": "code",
   "execution_count": 6,
   "metadata": {},
   "outputs": [
    {
     "name": "stdout",
     "output_type": "stream",
     "text": [
      "Matrix multiplication: NUMPY: 19.012ms, PYTORCH: 13.998ms, JAX: 16.316ms, TENSORFLOW: 17.444ms\n",
      "Element wise addition: NUMPY: 1.980ms, PYTORCH: 1.739ms, JAX: 2.656ms, TENSORFLOW: 2.040ms\n",
      "Element wise multiplication: NUMPY: 2.128ms, PYTORCH: 1.522ms, JAX: 2.015ms, TENSORFLOW: 2.091ms\n"
     ]
    }
   ],
   "source": [
    "comparison = comparsion_operations()\n",
    "for result in comparison:\n",
    "    print(result)"
   ]
  },
  {
   "cell_type": "code",
   "execution_count": 11,
   "metadata": {},
   "outputs": [
    {
     "name": "stdout",
     "output_type": "stream",
     "text": [
      "DataType of matrix :\n",
      " NumPy: <class 'numpy.ndarray'>\n",
      " PyTorch: <class 'torch.Tensor'>\n",
      " JAX: <class 'jaxlib.xla_extension.ArrayImpl'>\n",
      " TensorFlow: <class 'tensorflow.python.framework.ops.EagerTensor'>\n"
     ]
    }
   ],
   "source": [
    "np_a = np.random.rand(10, 10).astype(np.float32)\n",
    "np_b = np.random.rand(10, 10).astype(np.float32)\n",
    "pt_a = torch.from_numpy(np_a).to(torch.float32)\n",
    "pt_b = torch.from_numpy(np_b).to(torch.float32)\n",
    "jax_a = jnp.array(np_a, dtype=jnp.float32)\n",
    "jax_b = jnp.array(np_b, dtype=jnp.float32)\n",
    "tf_a = tf.convert_to_tensor(np_a)\n",
    "tf_b = tf.convert_to_tensor(np_b)\n",
    "\n",
    "\n",
    "print(f\"DataType of matrix :\\n NumPy: {type(np_a)}\\n PyTorch: {type(pt_a)}\\n JAX: {type(jax_a)}\\n TensorFlow: {type(tf_a)}\")\n"
   ]
  },
  {
   "cell_type": "code",
   "execution_count": null,
   "metadata": {},
   "outputs": [],
   "source": []
  }
 ],
 "metadata": {
  "kernelspec": {
   "display_name": "pyml",
   "language": "python",
   "name": "python3"
  },
  "language_info": {
   "codemirror_mode": {
    "name": "ipython",
    "version": 3
   },
   "file_extension": ".py",
   "mimetype": "text/x-python",
   "name": "python",
   "nbconvert_exporter": "python",
   "pygments_lexer": "ipython3",
   "version": "3.10.14"
  }
 },
 "nbformat": 4,
 "nbformat_minor": 2
}
